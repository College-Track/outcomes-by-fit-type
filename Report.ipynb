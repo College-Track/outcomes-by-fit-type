{
 "cells": [
  {
   "cell_type": "markdown",
   "metadata": {},
   "source": [
    "## OP Learning Agenda: Influence of College Fit Type on Students' Outcomes"
   ]
  },
  {
   "cell_type": "markdown",
   "metadata": {},
   "source": [
    "### Abstract\n",
    "\n",
    "One of the key choices in a students' career is what college they attend. To help guide students, College Track has created a set of criteria to categorize schools to better inform students of their chance of success. \n",
    "\n",
    "The goal of this learning agenda was to evaluate if students chance of success was influenced by the fit type of school they attended. \n",
    "\n",
    "Overall, Fit Type is a moderately good indicator of students graduation rate, however, it still lags heavily behind GPA as the best predictors. Of note, it is more predictive than any income, ethnic, or first-generation status. \n",
    "\n",
    "For this project, students were broken up into different categories based on their GPA to see if fit type had a bigger influence on students in certain GPA ranges. Students were only divided based on GPA as ethnicity, income, and first-generation status didn't have a strong predictor and would only limit the sample sizes. \n",
    "\n",
    "For students with GPAs above 2.75, most fit types had no statistically significant influence on their likelihood to graduate. The only exception was attending a local affordable school did have a small negative influence on graduation success. \n",
    "\n",
    "For students below a 2.75 GPA, only attending a best fit school had a positive influence on graduation success, and all other fit types had a statistically significant negative impact. This positive relationship with attending a best fit school applies to all students below a 2.75 GPA that we have enough data on. \n",
    "\n",
    "Of note there, is attending a good fit, local affordable, or no fit type school has a negative impact on graduation success. In particular, attending a local affordable school deceased your chances of graduation by roughly half. \n",
    "\n",
    "One artifact of this analysis is the possibility that the specific school a student attends has a very high predictor of graduation success. Unfortunately, we do not yet have enough data on graduation rates from individual schools to fully explore this possibility, but it does open the door to reevaluating how we determine schools' fit types. "
   ]
  },
  {
   "cell_type": "code",
   "execution_count": 54,
   "metadata": {},
   "outputs": [],
   "source": [
    "import pandas as pd\n",
    "from pathlib import Path\n",
    "from datetime import datetime\n",
    "import statsmodels.api as sm\n",
    "import numpy as np\n",
    "from tabulate import tabulate\n",
    "import seaborn as sns\n",
    "import matplotlib.pyplot as plt\n",
    "import warnings\n",
    "warnings.filterwarnings('ignore')\n",
    "\n",
    "from dython.nominal import correlation_ratio, associations\n",
    "\n",
    "import statsmodels.formula.api as smf\n",
    "import statsmodels.api as sm\n"
   ]
  },
  {
   "cell_type": "code",
   "execution_count": 4,
   "metadata": {},
   "outputs": [],
   "source": [
    "%matplotlib inline"
   ]
  },
  {
   "cell_type": "code",
   "execution_count": 5,
   "metadata": {},
   "outputs": [],
   "source": [
    "today = datetime.today()\n",
    "in_file = Path.cwd() / \"data\" / \"processed\" / \"processed_data.pkl\"\n",
    "report_dir = Path.cwd() / \"reports\"\n",
    "report_file = report_dir / \"Excel_Analysis_{today:%b-%d-%Y}.xlsx\"\n",
    "\n",
    "in_file2 = Path.cwd() / \"data\" / \"processed\" / \"processed_data_file2.pkl\"\n",
    "\n",
    "in_file3 = Path.cwd() / \"data\" / \"processed\" / \"processed_data_file3.pkl\"\n"
   ]
  },
  {
   "cell_type": "code",
   "execution_count": 6,
   "metadata": {},
   "outputs": [],
   "source": [
    "df = pd.read_pickle(in_file)\n",
    "\n",
    "df2 = pd.read_pickle(in_file2)\n",
    "\n",
    "# df3 = pd.read_pickle(in_file3)"
   ]
  },
  {
   "cell_type": "code",
   "execution_count": 7,
   "metadata": {},
   "outputs": [],
   "source": [
    "# Because some data points are limited for historical classes,\n",
    "# setting up data frames to deal with various historical limitations \n",
    "\n",
    "df_matriculation_data = df[df.high_school_class >= 2015]\n",
    "\n",
    "df_4_year_grades = df[df.high_school_class <= 2015]\n",
    "df_5_year_grades = df[df.high_school_class <= 2014]\n",
    "df_6_year_grades = df[df.high_school_class <= 2013]"
   ]
  },
  {
   "cell_type": "code",
   "execution_count": 45,
   "metadata": {},
   "outputs": [],
   "source": [
    "df_5_year_grades_above_3_gpa = df_5_year_grades[df_5_year_grades.year_1 >= 3]\n",
    "\n",
    "df_5_year_grades_below_3_gpa = df_5_year_grades[df_5_year_grades.year_1 < 3]\n",
    "\n",
    "df_5_year_grades_below_275_gpa = df_5_year_grades[df_5_year_grades.year_1 <= 2.75]\n",
    "\n",
    "df_grades_below_275 = df[df.year_1 <= 2.75]\n",
    "df_grades_above_3_gpa = df[df.year_1 > 3]"
   ]
  },
  {
   "cell_type": "markdown",
   "metadata": {},
   "source": [
    "## General Distributions"
   ]
  },
  {
   "cell_type": "markdown",
   "metadata": {},
   "source": [
    "#### Table 1. 5 Year Graduation Rate by Fit Type"
   ]
  },
  {
   "cell_type": "code",
   "execution_count": 21,
   "metadata": {},
   "outputs": [
    {
     "data": {
      "text/html": [
       "<style  type=\"text/css\" >\n",
       "</style><table id=\"T_c2207944_7071_11ea_9dba_4c327597d7ef\" ><thead>    <tr>        <th class=\"index_name level0\" >graduated_4_year_degree_less_5_years</th>        <th class=\"col_heading level0 col0\" >False</th>        <th class=\"col_heading level0 col1\" >True</th>    </tr>    <tr>        <th class=\"index_name level0\" >updated_fit_type</th>        <th class=\"blank\" ></th>        <th class=\"blank\" ></th>    </tr></thead><tbody>\n",
       "                <tr>\n",
       "                        <th id=\"T_c2207944_7071_11ea_9dba_4c327597d7eflevel0_row0\" class=\"row_heading level0 row0\" >Best Fit</th>\n",
       "                        <td id=\"T_c2207944_7071_11ea_9dba_4c327597d7efrow0_col0\" class=\"data row0 col0\" >21%</td>\n",
       "                        <td id=\"T_c2207944_7071_11ea_9dba_4c327597d7efrow0_col1\" class=\"data row0 col1\" >79%</td>\n",
       "            </tr>\n",
       "            <tr>\n",
       "                        <th id=\"T_c2207944_7071_11ea_9dba_4c327597d7eflevel0_row1\" class=\"row_heading level0 row1\" >Good Fit</th>\n",
       "                        <td id=\"T_c2207944_7071_11ea_9dba_4c327597d7efrow1_col0\" class=\"data row1 col0\" >67%</td>\n",
       "                        <td id=\"T_c2207944_7071_11ea_9dba_4c327597d7efrow1_col1\" class=\"data row1 col1\" >33%</td>\n",
       "            </tr>\n",
       "            <tr>\n",
       "                        <th id=\"T_c2207944_7071_11ea_9dba_4c327597d7eflevel0_row2\" class=\"row_heading level0 row2\" >Local Affordable</th>\n",
       "                        <td id=\"T_c2207944_7071_11ea_9dba_4c327597d7efrow2_col0\" class=\"data row2 col0\" >66%</td>\n",
       "                        <td id=\"T_c2207944_7071_11ea_9dba_4c327597d7efrow2_col1\" class=\"data row2 col1\" >34%</td>\n",
       "            </tr>\n",
       "            <tr>\n",
       "                        <th id=\"T_c2207944_7071_11ea_9dba_4c327597d7eflevel0_row3\" class=\"row_heading level0 row3\" >None</th>\n",
       "                        <td id=\"T_c2207944_7071_11ea_9dba_4c327597d7efrow3_col0\" class=\"data row3 col0\" >81%</td>\n",
       "                        <td id=\"T_c2207944_7071_11ea_9dba_4c327597d7efrow3_col1\" class=\"data row3 col1\" >19%</td>\n",
       "            </tr>\n",
       "            <tr>\n",
       "                        <th id=\"T_c2207944_7071_11ea_9dba_4c327597d7eflevel0_row4\" class=\"row_heading level0 row4\" >All</th>\n",
       "                        <td id=\"T_c2207944_7071_11ea_9dba_4c327597d7efrow4_col0\" class=\"data row4 col0\" >55%</td>\n",
       "                        <td id=\"T_c2207944_7071_11ea_9dba_4c327597d7efrow4_col1\" class=\"data row4 col1\" >45%</td>\n",
       "            </tr>\n",
       "    </tbody></table>"
      ],
      "text/plain": [
       "<pandas.io.formats.style.Styler at 0x10695ae10>"
      ]
     },
     "execution_count": 21,
     "metadata": {},
     "output_type": "execute_result"
    }
   ],
   "source": [
    "grad_rate_5_year = pd.crosstab(df_5_year_grades.updated_fit_type,\n",
    "            df_5_year_grades.graduated_4_year_degree_less_5_years, normalize='index', margins=True)\n",
    "\n",
    "grad_rate_5_year.round(2).style.format('{:.0%}')"
   ]
  },
  {
   "cell_type": "markdown",
   "metadata": {},
   "source": [
    "#### Table 2. 5 Year Graduation Rate by Fit Type - Students Below 2.75 GPA in Year 1"
   ]
  },
  {
   "cell_type": "code",
   "execution_count": 39,
   "metadata": {},
   "outputs": [
    {
     "data": {
      "text/html": [
       "<style  type=\"text/css\" >\n",
       "</style><table id=\"T_7086a91c_7073_11ea_9dba_4c327597d7ef\" ><thead>    <tr>        <th class=\"index_name level0\" >graduated_4_year_degree_less_5_years</th>        <th class=\"col_heading level0 col0\" >False</th>        <th class=\"col_heading level0 col1\" >True</th>    </tr>    <tr>        <th class=\"index_name level0\" >updated_fit_type</th>        <th class=\"blank\" ></th>        <th class=\"blank\" ></th>    </tr></thead><tbody>\n",
       "                <tr>\n",
       "                        <th id=\"T_7086a91c_7073_11ea_9dba_4c327597d7eflevel0_row0\" class=\"row_heading level0 row0\" >Best Fit</th>\n",
       "                        <td id=\"T_7086a91c_7073_11ea_9dba_4c327597d7efrow0_col0\" class=\"data row0 col0\" >31%</td>\n",
       "                        <td id=\"T_7086a91c_7073_11ea_9dba_4c327597d7efrow0_col1\" class=\"data row0 col1\" >69%</td>\n",
       "            </tr>\n",
       "            <tr>\n",
       "                        <th id=\"T_7086a91c_7073_11ea_9dba_4c327597d7eflevel0_row1\" class=\"row_heading level0 row1\" >Good Fit</th>\n",
       "                        <td id=\"T_7086a91c_7073_11ea_9dba_4c327597d7efrow1_col0\" class=\"data row1 col0\" >82%</td>\n",
       "                        <td id=\"T_7086a91c_7073_11ea_9dba_4c327597d7efrow1_col1\" class=\"data row1 col1\" >18%</td>\n",
       "            </tr>\n",
       "            <tr>\n",
       "                        <th id=\"T_7086a91c_7073_11ea_9dba_4c327597d7eflevel0_row2\" class=\"row_heading level0 row2\" >Local Affordable</th>\n",
       "                        <td id=\"T_7086a91c_7073_11ea_9dba_4c327597d7efrow2_col0\" class=\"data row2 col0\" >78%</td>\n",
       "                        <td id=\"T_7086a91c_7073_11ea_9dba_4c327597d7efrow2_col1\" class=\"data row2 col1\" >22%</td>\n",
       "            </tr>\n",
       "            <tr>\n",
       "                        <th id=\"T_7086a91c_7073_11ea_9dba_4c327597d7eflevel0_row3\" class=\"row_heading level0 row3\" >None</th>\n",
       "                        <td id=\"T_7086a91c_7073_11ea_9dba_4c327597d7efrow3_col0\" class=\"data row3 col0\" >86%</td>\n",
       "                        <td id=\"T_7086a91c_7073_11ea_9dba_4c327597d7efrow3_col1\" class=\"data row3 col1\" >14%</td>\n",
       "            </tr>\n",
       "            <tr>\n",
       "                        <th id=\"T_7086a91c_7073_11ea_9dba_4c327597d7eflevel0_row4\" class=\"row_heading level0 row4\" >All</th>\n",
       "                        <td id=\"T_7086a91c_7073_11ea_9dba_4c327597d7efrow4_col0\" class=\"data row4 col0\" >70%</td>\n",
       "                        <td id=\"T_7086a91c_7073_11ea_9dba_4c327597d7efrow4_col1\" class=\"data row4 col1\" >30%</td>\n",
       "            </tr>\n",
       "    </tbody></table>"
      ],
      "text/plain": [
       "<pandas.io.formats.style.Styler at 0x1a1d8884d0>"
      ]
     },
     "execution_count": 39,
     "metadata": {},
     "output_type": "execute_result"
    }
   ],
   "source": [
    "grad_rate_5_year = pd.crosstab(df_5_year_grades_below_275_gpa.updated_fit_type,\n",
    "            df_5_year_grades_below_275_gpa.graduated_4_year_degree_less_5_years, normalize='index', margins=True)\n",
    "\n",
    "grad_rate_5_year.round(2).style.format('{:.0%}')"
   ]
  },
  {
   "cell_type": "markdown",
   "metadata": {},
   "source": [
    "#### Table 3. 5 Year Graduation Rate by Fit Type - Students Below 3.0 GPA in Year 1"
   ]
  },
  {
   "cell_type": "code",
   "execution_count": 38,
   "metadata": {},
   "outputs": [
    {
     "data": {
      "text/html": [
       "<style  type=\"text/css\" >\n",
       "</style><table id=\"T_6e701a1e_7073_11ea_9dba_4c327597d7ef\" ><thead>    <tr>        <th class=\"index_name level0\" >graduated_4_year_degree_less_5_years</th>        <th class=\"col_heading level0 col0\" >False</th>        <th class=\"col_heading level0 col1\" >True</th>    </tr>    <tr>        <th class=\"index_name level0\" >updated_fit_type</th>        <th class=\"blank\" ></th>        <th class=\"blank\" ></th>    </tr></thead><tbody>\n",
       "                <tr>\n",
       "                        <th id=\"T_6e701a1e_7073_11ea_9dba_4c327597d7eflevel0_row0\" class=\"row_heading level0 row0\" >Best Fit</th>\n",
       "                        <td id=\"T_6e701a1e_7073_11ea_9dba_4c327597d7efrow0_col0\" class=\"data row0 col0\" >10%</td>\n",
       "                        <td id=\"T_6e701a1e_7073_11ea_9dba_4c327597d7efrow0_col1\" class=\"data row0 col1\" >90%</td>\n",
       "            </tr>\n",
       "            <tr>\n",
       "                        <th id=\"T_6e701a1e_7073_11ea_9dba_4c327597d7eflevel0_row1\" class=\"row_heading level0 row1\" >Good Fit</th>\n",
       "                        <td id=\"T_6e701a1e_7073_11ea_9dba_4c327597d7efrow1_col0\" class=\"data row1 col0\" >26%</td>\n",
       "                        <td id=\"T_6e701a1e_7073_11ea_9dba_4c327597d7efrow1_col1\" class=\"data row1 col1\" >74%</td>\n",
       "            </tr>\n",
       "            <tr>\n",
       "                        <th id=\"T_6e701a1e_7073_11ea_9dba_4c327597d7eflevel0_row2\" class=\"row_heading level0 row2\" >Local Affordable</th>\n",
       "                        <td id=\"T_6e701a1e_7073_11ea_9dba_4c327597d7efrow2_col0\" class=\"data row2 col0\" >47%</td>\n",
       "                        <td id=\"T_6e701a1e_7073_11ea_9dba_4c327597d7efrow2_col1\" class=\"data row2 col1\" >53%</td>\n",
       "            </tr>\n",
       "            <tr>\n",
       "                        <th id=\"T_6e701a1e_7073_11ea_9dba_4c327597d7eflevel0_row3\" class=\"row_heading level0 row3\" >None</th>\n",
       "                        <td id=\"T_6e701a1e_7073_11ea_9dba_4c327597d7efrow3_col0\" class=\"data row3 col0\" >30%</td>\n",
       "                        <td id=\"T_6e701a1e_7073_11ea_9dba_4c327597d7efrow3_col1\" class=\"data row3 col1\" >70%</td>\n",
       "            </tr>\n",
       "            <tr>\n",
       "                        <th id=\"T_6e701a1e_7073_11ea_9dba_4c327597d7eflevel0_row4\" class=\"row_heading level0 row4\" >All</th>\n",
       "                        <td id=\"T_6e701a1e_7073_11ea_9dba_4c327597d7efrow4_col0\" class=\"data row4 col0\" >23%</td>\n",
       "                        <td id=\"T_6e701a1e_7073_11ea_9dba_4c327597d7efrow4_col1\" class=\"data row4 col1\" >77%</td>\n",
       "            </tr>\n",
       "    </tbody></table>"
      ],
      "text/plain": [
       "<pandas.io.formats.style.Styler at 0x1a1da44b50>"
      ]
     },
     "execution_count": 38,
     "metadata": {},
     "output_type": "execute_result"
    }
   ],
   "source": [
    "grad_rate_5_year = pd.crosstab(df_5_year_grades_above_3_gpa.updated_fit_type,\n",
    "            df_5_year_grades_above_3_gpa.graduated_4_year_degree_less_5_years, normalize='index', margins=True)\n",
    "\n",
    "grad_rate_5_year.round(2).style.format('{:.0%}')"
   ]
  },
  {
   "cell_type": "markdown",
   "metadata": {},
   "source": [
    "#### Table 4. Persistence Rate by Fit Type"
   ]
  },
  {
   "cell_type": "code",
   "execution_count": 40,
   "metadata": {},
   "outputs": [
    {
     "data": {
      "text/html": [
       "<style  type=\"text/css\" >\n",
       "</style><table id=\"T_94f4d5c6_7073_11ea_9dba_4c327597d7ef\" ><thead>    <tr>        <th class=\"index_name level0\" >indicator_persisted_into_year_2_ct</th>        <th class=\"col_heading level0 col0\" >False</th>        <th class=\"col_heading level0 col1\" >True</th>    </tr>    <tr>        <th class=\"index_name level0\" >updated_fit_type</th>        <th class=\"blank\" ></th>        <th class=\"blank\" ></th>    </tr></thead><tbody>\n",
       "                <tr>\n",
       "                        <th id=\"T_94f4d5c6_7073_11ea_9dba_4c327597d7eflevel0_row0\" class=\"row_heading level0 row0\" >Best Fit</th>\n",
       "                        <td id=\"T_94f4d5c6_7073_11ea_9dba_4c327597d7efrow0_col0\" class=\"data row0 col0\" >6%</td>\n",
       "                        <td id=\"T_94f4d5c6_7073_11ea_9dba_4c327597d7efrow0_col1\" class=\"data row0 col1\" >94%</td>\n",
       "            </tr>\n",
       "            <tr>\n",
       "                        <th id=\"T_94f4d5c6_7073_11ea_9dba_4c327597d7eflevel0_row1\" class=\"row_heading level0 row1\" >Good Fit</th>\n",
       "                        <td id=\"T_94f4d5c6_7073_11ea_9dba_4c327597d7efrow1_col0\" class=\"data row1 col0\" >23%</td>\n",
       "                        <td id=\"T_94f4d5c6_7073_11ea_9dba_4c327597d7efrow1_col1\" class=\"data row1 col1\" >77%</td>\n",
       "            </tr>\n",
       "            <tr>\n",
       "                        <th id=\"T_94f4d5c6_7073_11ea_9dba_4c327597d7eflevel0_row2\" class=\"row_heading level0 row2\" >Local Affordable</th>\n",
       "                        <td id=\"T_94f4d5c6_7073_11ea_9dba_4c327597d7efrow2_col0\" class=\"data row2 col0\" >13%</td>\n",
       "                        <td id=\"T_94f4d5c6_7073_11ea_9dba_4c327597d7efrow2_col1\" class=\"data row2 col1\" >87%</td>\n",
       "            </tr>\n",
       "            <tr>\n",
       "                        <th id=\"T_94f4d5c6_7073_11ea_9dba_4c327597d7eflevel0_row3\" class=\"row_heading level0 row3\" >None</th>\n",
       "                        <td id=\"T_94f4d5c6_7073_11ea_9dba_4c327597d7efrow3_col0\" class=\"data row3 col0\" >34%</td>\n",
       "                        <td id=\"T_94f4d5c6_7073_11ea_9dba_4c327597d7efrow3_col1\" class=\"data row3 col1\" >66%</td>\n",
       "            </tr>\n",
       "    </tbody></table>"
      ],
      "text/plain": [
       "<pandas.io.formats.style.Styler at 0x1a1d919910>"
      ]
     },
     "execution_count": 40,
     "metadata": {},
     "output_type": "execute_result"
    }
   ],
   "source": [
    "pd.crosstab(df.updated_fit_type, df.indicator_persisted_into_year_2_ct,\n",
    "            normalize='index').round(2).style.format('{:.0%}')"
   ]
  },
  {
   "cell_type": "markdown",
   "metadata": {},
   "source": [
    "#### Table 5. Persistence Rate by Fit Type - Students Below 2.75 GPA in Year 1 "
   ]
  },
  {
   "cell_type": "code",
   "execution_count": 42,
   "metadata": {},
   "outputs": [
    {
     "data": {
      "text/html": [
       "<style  type=\"text/css\" >\n",
       "</style><table id=\"T_9ccf44fc_7073_11ea_9dba_4c327597d7ef\" ><thead>    <tr>        <th class=\"index_name level0\" >indicator_persisted_into_year_2_ct</th>        <th class=\"col_heading level0 col0\" >False</th>        <th class=\"col_heading level0 col1\" >True</th>    </tr>    <tr>        <th class=\"index_name level0\" >updated_fit_type</th>        <th class=\"blank\" ></th>        <th class=\"blank\" ></th>    </tr></thead><tbody>\n",
       "                <tr>\n",
       "                        <th id=\"T_9ccf44fc_7073_11ea_9dba_4c327597d7eflevel0_row0\" class=\"row_heading level0 row0\" >Best Fit</th>\n",
       "                        <td id=\"T_9ccf44fc_7073_11ea_9dba_4c327597d7efrow0_col0\" class=\"data row0 col0\" >11%</td>\n",
       "                        <td id=\"T_9ccf44fc_7073_11ea_9dba_4c327597d7efrow0_col1\" class=\"data row0 col1\" >89%</td>\n",
       "            </tr>\n",
       "            <tr>\n",
       "                        <th id=\"T_9ccf44fc_7073_11ea_9dba_4c327597d7eflevel0_row1\" class=\"row_heading level0 row1\" >Good Fit</th>\n",
       "                        <td id=\"T_9ccf44fc_7073_11ea_9dba_4c327597d7efrow1_col0\" class=\"data row1 col0\" >35%</td>\n",
       "                        <td id=\"T_9ccf44fc_7073_11ea_9dba_4c327597d7efrow1_col1\" class=\"data row1 col1\" >65%</td>\n",
       "            </tr>\n",
       "            <tr>\n",
       "                        <th id=\"T_9ccf44fc_7073_11ea_9dba_4c327597d7eflevel0_row2\" class=\"row_heading level0 row2\" >Local Affordable</th>\n",
       "                        <td id=\"T_9ccf44fc_7073_11ea_9dba_4c327597d7efrow2_col0\" class=\"data row2 col0\" >19%</td>\n",
       "                        <td id=\"T_9ccf44fc_7073_11ea_9dba_4c327597d7efrow2_col1\" class=\"data row2 col1\" >81%</td>\n",
       "            </tr>\n",
       "            <tr>\n",
       "                        <th id=\"T_9ccf44fc_7073_11ea_9dba_4c327597d7eflevel0_row3\" class=\"row_heading level0 row3\" >None</th>\n",
       "                        <td id=\"T_9ccf44fc_7073_11ea_9dba_4c327597d7efrow3_col0\" class=\"data row3 col0\" >42%</td>\n",
       "                        <td id=\"T_9ccf44fc_7073_11ea_9dba_4c327597d7efrow3_col1\" class=\"data row3 col1\" >58%</td>\n",
       "            </tr>\n",
       "    </tbody></table>"
      ],
      "text/plain": [
       "<pandas.io.formats.style.Styler at 0x1a1da1d310>"
      ]
     },
     "execution_count": 42,
     "metadata": {},
     "output_type": "execute_result"
    }
   ],
   "source": [
    "pd.crosstab(df_grades_below_275.updated_fit_type, df_grades_below_275.indicator_persisted_into_year_2_ct,\n",
    "            normalize='index').round(2).style.format('{:.0%}')"
   ]
  },
  {
   "cell_type": "markdown",
   "metadata": {},
   "source": [
    "#### Table 6. Fit Type Breakdown by High School Class"
   ]
  },
  {
   "cell_type": "code",
   "execution_count": 43,
   "metadata": {},
   "outputs": [
    {
     "data": {
      "text/html": [
       "<style  type=\"text/css\" >\n",
       "</style><table id=\"T_a1f48280_7073_11ea_9dba_4c327597d7ef\" ><thead>    <tr>        <th class=\"index_name level0\" >updated_fit_type</th>        <th class=\"col_heading level0 col0\" >Best Fit</th>        <th class=\"col_heading level0 col1\" >Good Fit</th>        <th class=\"col_heading level0 col2\" >Local Affordable</th>        <th class=\"col_heading level0 col3\" >None</th>    </tr>    <tr>        <th class=\"index_name level0\" >high_school_class</th>        <th class=\"blank\" ></th>        <th class=\"blank\" ></th>        <th class=\"blank\" ></th>        <th class=\"blank\" ></th>    </tr></thead><tbody>\n",
       "                <tr>\n",
       "                        <th id=\"T_a1f48280_7073_11ea_9dba_4c327597d7eflevel0_row0\" class=\"row_heading level0 row0\" >2011</th>\n",
       "                        <td id=\"T_a1f48280_7073_11ea_9dba_4c327597d7efrow0_col0\" class=\"data row0 col0\" >40%</td>\n",
       "                        <td id=\"T_a1f48280_7073_11ea_9dba_4c327597d7efrow0_col1\" class=\"data row0 col1\" >30%</td>\n",
       "                        <td id=\"T_a1f48280_7073_11ea_9dba_4c327597d7efrow0_col2\" class=\"data row0 col2\" >10%</td>\n",
       "                        <td id=\"T_a1f48280_7073_11ea_9dba_4c327597d7efrow0_col3\" class=\"data row0 col3\" >21%</td>\n",
       "            </tr>\n",
       "            <tr>\n",
       "                        <th id=\"T_a1f48280_7073_11ea_9dba_4c327597d7eflevel0_row1\" class=\"row_heading level0 row1\" >2012</th>\n",
       "                        <td id=\"T_a1f48280_7073_11ea_9dba_4c327597d7efrow1_col0\" class=\"data row1 col0\" >31%</td>\n",
       "                        <td id=\"T_a1f48280_7073_11ea_9dba_4c327597d7efrow1_col1\" class=\"data row1 col1\" >28%</td>\n",
       "                        <td id=\"T_a1f48280_7073_11ea_9dba_4c327597d7efrow1_col2\" class=\"data row1 col2\" >12%</td>\n",
       "                        <td id=\"T_a1f48280_7073_11ea_9dba_4c327597d7efrow1_col3\" class=\"data row1 col3\" >28%</td>\n",
       "            </tr>\n",
       "            <tr>\n",
       "                        <th id=\"T_a1f48280_7073_11ea_9dba_4c327597d7eflevel0_row2\" class=\"row_heading level0 row2\" >2013</th>\n",
       "                        <td id=\"T_a1f48280_7073_11ea_9dba_4c327597d7efrow2_col0\" class=\"data row2 col0\" >26%</td>\n",
       "                        <td id=\"T_a1f48280_7073_11ea_9dba_4c327597d7efrow2_col1\" class=\"data row2 col1\" >38%</td>\n",
       "                        <td id=\"T_a1f48280_7073_11ea_9dba_4c327597d7efrow2_col2\" class=\"data row2 col2\" >12%</td>\n",
       "                        <td id=\"T_a1f48280_7073_11ea_9dba_4c327597d7efrow2_col3\" class=\"data row2 col3\" >23%</td>\n",
       "            </tr>\n",
       "            <tr>\n",
       "                        <th id=\"T_a1f48280_7073_11ea_9dba_4c327597d7eflevel0_row3\" class=\"row_heading level0 row3\" >2014</th>\n",
       "                        <td id=\"T_a1f48280_7073_11ea_9dba_4c327597d7efrow3_col0\" class=\"data row3 col0\" >37%</td>\n",
       "                        <td id=\"T_a1f48280_7073_11ea_9dba_4c327597d7efrow3_col1\" class=\"data row3 col1\" >18%</td>\n",
       "                        <td id=\"T_a1f48280_7073_11ea_9dba_4c327597d7efrow3_col2\" class=\"data row3 col2\" >15%</td>\n",
       "                        <td id=\"T_a1f48280_7073_11ea_9dba_4c327597d7efrow3_col3\" class=\"data row3 col3\" >30%</td>\n",
       "            </tr>\n",
       "            <tr>\n",
       "                        <th id=\"T_a1f48280_7073_11ea_9dba_4c327597d7eflevel0_row4\" class=\"row_heading level0 row4\" >2015</th>\n",
       "                        <td id=\"T_a1f48280_7073_11ea_9dba_4c327597d7efrow4_col0\" class=\"data row4 col0\" >33%</td>\n",
       "                        <td id=\"T_a1f48280_7073_11ea_9dba_4c327597d7efrow4_col1\" class=\"data row4 col1\" >27%</td>\n",
       "                        <td id=\"T_a1f48280_7073_11ea_9dba_4c327597d7efrow4_col2\" class=\"data row4 col2\" >18%</td>\n",
       "                        <td id=\"T_a1f48280_7073_11ea_9dba_4c327597d7efrow4_col3\" class=\"data row4 col3\" >22%</td>\n",
       "            </tr>\n",
       "            <tr>\n",
       "                        <th id=\"T_a1f48280_7073_11ea_9dba_4c327597d7eflevel0_row5\" class=\"row_heading level0 row5\" >2016</th>\n",
       "                        <td id=\"T_a1f48280_7073_11ea_9dba_4c327597d7efrow5_col0\" class=\"data row5 col0\" >36%</td>\n",
       "                        <td id=\"T_a1f48280_7073_11ea_9dba_4c327597d7efrow5_col1\" class=\"data row5 col1\" >25%</td>\n",
       "                        <td id=\"T_a1f48280_7073_11ea_9dba_4c327597d7efrow5_col2\" class=\"data row5 col2\" >14%</td>\n",
       "                        <td id=\"T_a1f48280_7073_11ea_9dba_4c327597d7efrow5_col3\" class=\"data row5 col3\" >25%</td>\n",
       "            </tr>\n",
       "            <tr>\n",
       "                        <th id=\"T_a1f48280_7073_11ea_9dba_4c327597d7eflevel0_row6\" class=\"row_heading level0 row6\" >2017</th>\n",
       "                        <td id=\"T_a1f48280_7073_11ea_9dba_4c327597d7efrow6_col0\" class=\"data row6 col0\" >39%</td>\n",
       "                        <td id=\"T_a1f48280_7073_11ea_9dba_4c327597d7efrow6_col1\" class=\"data row6 col1\" >8%</td>\n",
       "                        <td id=\"T_a1f48280_7073_11ea_9dba_4c327597d7efrow6_col2\" class=\"data row6 col2\" >17%</td>\n",
       "                        <td id=\"T_a1f48280_7073_11ea_9dba_4c327597d7efrow6_col3\" class=\"data row6 col3\" >37%</td>\n",
       "            </tr>\n",
       "            <tr>\n",
       "                        <th id=\"T_a1f48280_7073_11ea_9dba_4c327597d7eflevel0_row7\" class=\"row_heading level0 row7\" >2018</th>\n",
       "                        <td id=\"T_a1f48280_7073_11ea_9dba_4c327597d7efrow7_col0\" class=\"data row7 col0\" >47%</td>\n",
       "                        <td id=\"T_a1f48280_7073_11ea_9dba_4c327597d7efrow7_col1\" class=\"data row7 col1\" >5%</td>\n",
       "                        <td id=\"T_a1f48280_7073_11ea_9dba_4c327597d7efrow7_col2\" class=\"data row7 col2\" >20%</td>\n",
       "                        <td id=\"T_a1f48280_7073_11ea_9dba_4c327597d7efrow7_col3\" class=\"data row7 col3\" >29%</td>\n",
       "            </tr>\n",
       "    </tbody></table>"
      ],
      "text/plain": [
       "<pandas.io.formats.style.Styler at 0x1a1d758a90>"
      ]
     },
     "execution_count": 43,
     "metadata": {},
     "output_type": "execute_result"
    }
   ],
   "source": [
    "pd.crosstab(df.high_school_class, df.updated_fit_type, normalize='index').round(2).style.format('{:.0%}')"
   ]
  },
  {
   "cell_type": "markdown",
   "metadata": {},
   "source": [
    "#### Table 7. Fit Type Breakdown by High School Class - Students Below 2.75 in Year 1 "
   ]
  },
  {
   "cell_type": "code",
   "execution_count": 49,
   "metadata": {},
   "outputs": [
    {
     "data": {
      "text/html": [
       "<style  type=\"text/css\" >\n",
       "</style><table id=\"T_e8359bb2_7073_11ea_9dba_4c327597d7ef\" ><thead>    <tr>        <th class=\"index_name level0\" >updated_fit_type</th>        <th class=\"col_heading level0 col0\" >Best Fit</th>        <th class=\"col_heading level0 col1\" >Good Fit</th>        <th class=\"col_heading level0 col2\" >Local Affordable</th>        <th class=\"col_heading level0 col3\" >None</th>    </tr>    <tr>        <th class=\"index_name level0\" >high_school_class</th>        <th class=\"blank\" ></th>        <th class=\"blank\" ></th>        <th class=\"blank\" ></th>        <th class=\"blank\" ></th>    </tr></thead><tbody>\n",
       "                <tr>\n",
       "                        <th id=\"T_e8359bb2_7073_11ea_9dba_4c327597d7eflevel0_row0\" class=\"row_heading level0 row0\" >2011</th>\n",
       "                        <td id=\"T_e8359bb2_7073_11ea_9dba_4c327597d7efrow0_col0\" class=\"data row0 col0\" >20%</td>\n",
       "                        <td id=\"T_e8359bb2_7073_11ea_9dba_4c327597d7efrow0_col1\" class=\"data row0 col1\" >40%</td>\n",
       "                        <td id=\"T_e8359bb2_7073_11ea_9dba_4c327597d7efrow0_col2\" class=\"data row0 col2\" >20%</td>\n",
       "                        <td id=\"T_e8359bb2_7073_11ea_9dba_4c327597d7efrow0_col3\" class=\"data row0 col3\" >20%</td>\n",
       "            </tr>\n",
       "            <tr>\n",
       "                        <th id=\"T_e8359bb2_7073_11ea_9dba_4c327597d7eflevel0_row1\" class=\"row_heading level0 row1\" >2012</th>\n",
       "                        <td id=\"T_e8359bb2_7073_11ea_9dba_4c327597d7efrow1_col0\" class=\"data row1 col0\" >16%</td>\n",
       "                        <td id=\"T_e8359bb2_7073_11ea_9dba_4c327597d7efrow1_col1\" class=\"data row1 col1\" >30%</td>\n",
       "                        <td id=\"T_e8359bb2_7073_11ea_9dba_4c327597d7efrow1_col2\" class=\"data row1 col2\" >11%</td>\n",
       "                        <td id=\"T_e8359bb2_7073_11ea_9dba_4c327597d7efrow1_col3\" class=\"data row1 col3\" >43%</td>\n",
       "            </tr>\n",
       "            <tr>\n",
       "                        <th id=\"T_e8359bb2_7073_11ea_9dba_4c327597d7eflevel0_row2\" class=\"row_heading level0 row2\" >2013</th>\n",
       "                        <td id=\"T_e8359bb2_7073_11ea_9dba_4c327597d7efrow2_col0\" class=\"data row2 col0\" >23%</td>\n",
       "                        <td id=\"T_e8359bb2_7073_11ea_9dba_4c327597d7efrow2_col1\" class=\"data row2 col1\" >28%</td>\n",
       "                        <td id=\"T_e8359bb2_7073_11ea_9dba_4c327597d7efrow2_col2\" class=\"data row2 col2\" >17%</td>\n",
       "                        <td id=\"T_e8359bb2_7073_11ea_9dba_4c327597d7efrow2_col3\" class=\"data row2 col3\" >32%</td>\n",
       "            </tr>\n",
       "            <tr>\n",
       "                        <th id=\"T_e8359bb2_7073_11ea_9dba_4c327597d7eflevel0_row3\" class=\"row_heading level0 row3\" >2014</th>\n",
       "                        <td id=\"T_e8359bb2_7073_11ea_9dba_4c327597d7efrow3_col0\" class=\"data row3 col0\" >35%</td>\n",
       "                        <td id=\"T_e8359bb2_7073_11ea_9dba_4c327597d7efrow3_col1\" class=\"data row3 col1\" >7%</td>\n",
       "                        <td id=\"T_e8359bb2_7073_11ea_9dba_4c327597d7efrow3_col2\" class=\"data row3 col2\" >14%</td>\n",
       "                        <td id=\"T_e8359bb2_7073_11ea_9dba_4c327597d7efrow3_col3\" class=\"data row3 col3\" >45%</td>\n",
       "            </tr>\n",
       "            <tr>\n",
       "                        <th id=\"T_e8359bb2_7073_11ea_9dba_4c327597d7eflevel0_row4\" class=\"row_heading level0 row4\" >2015</th>\n",
       "                        <td id=\"T_e8359bb2_7073_11ea_9dba_4c327597d7efrow4_col0\" class=\"data row4 col0\" >27%</td>\n",
       "                        <td id=\"T_e8359bb2_7073_11ea_9dba_4c327597d7efrow4_col1\" class=\"data row4 col1\" >30%</td>\n",
       "                        <td id=\"T_e8359bb2_7073_11ea_9dba_4c327597d7efrow4_col2\" class=\"data row4 col2\" >15%</td>\n",
       "                        <td id=\"T_e8359bb2_7073_11ea_9dba_4c327597d7efrow4_col3\" class=\"data row4 col3\" >28%</td>\n",
       "            </tr>\n",
       "            <tr>\n",
       "                        <th id=\"T_e8359bb2_7073_11ea_9dba_4c327597d7eflevel0_row5\" class=\"row_heading level0 row5\" >2016</th>\n",
       "                        <td id=\"T_e8359bb2_7073_11ea_9dba_4c327597d7efrow5_col0\" class=\"data row5 col0\" >30%</td>\n",
       "                        <td id=\"T_e8359bb2_7073_11ea_9dba_4c327597d7efrow5_col1\" class=\"data row5 col1\" >27%</td>\n",
       "                        <td id=\"T_e8359bb2_7073_11ea_9dba_4c327597d7efrow5_col2\" class=\"data row5 col2\" >13%</td>\n",
       "                        <td id=\"T_e8359bb2_7073_11ea_9dba_4c327597d7efrow5_col3\" class=\"data row5 col3\" >29%</td>\n",
       "            </tr>\n",
       "            <tr>\n",
       "                        <th id=\"T_e8359bb2_7073_11ea_9dba_4c327597d7eflevel0_row6\" class=\"row_heading level0 row6\" >2017</th>\n",
       "                        <td id=\"T_e8359bb2_7073_11ea_9dba_4c327597d7efrow6_col0\" class=\"data row6 col0\" >31%</td>\n",
       "                        <td id=\"T_e8359bb2_7073_11ea_9dba_4c327597d7efrow6_col1\" class=\"data row6 col1\" >10%</td>\n",
       "                        <td id=\"T_e8359bb2_7073_11ea_9dba_4c327597d7efrow6_col2\" class=\"data row6 col2\" >15%</td>\n",
       "                        <td id=\"T_e8359bb2_7073_11ea_9dba_4c327597d7efrow6_col3\" class=\"data row6 col3\" >45%</td>\n",
       "            </tr>\n",
       "            <tr>\n",
       "                        <th id=\"T_e8359bb2_7073_11ea_9dba_4c327597d7eflevel0_row7\" class=\"row_heading level0 row7\" >2018</th>\n",
       "                        <td id=\"T_e8359bb2_7073_11ea_9dba_4c327597d7efrow7_col0\" class=\"data row7 col0\" >44%</td>\n",
       "                        <td id=\"T_e8359bb2_7073_11ea_9dba_4c327597d7efrow7_col1\" class=\"data row7 col1\" >6%</td>\n",
       "                        <td id=\"T_e8359bb2_7073_11ea_9dba_4c327597d7efrow7_col2\" class=\"data row7 col2\" >22%</td>\n",
       "                        <td id=\"T_e8359bb2_7073_11ea_9dba_4c327597d7efrow7_col3\" class=\"data row7 col3\" >28%</td>\n",
       "            </tr>\n",
       "    </tbody></table>"
      ],
      "text/plain": [
       "<pandas.io.formats.style.Styler at 0x1a1d82f190>"
      ]
     },
     "execution_count": 49,
     "metadata": {},
     "output_type": "execute_result"
    }
   ],
   "source": [
    "pd.crosstab(df_grades_below_275.high_school_class, df_grades_below_275.updated_fit_type, normalize='index').round(2).style.format('{:.0%}')"
   ]
  },
  {
   "cell_type": "markdown",
   "metadata": {},
   "source": [
    "#### Table 8. Fit Type Breakdown by High School Class - Students Above 3.0 in Year 1 \n"
   ]
  },
  {
   "cell_type": "code",
   "execution_count": 48,
   "metadata": {},
   "outputs": [
    {
     "data": {
      "text/html": [
       "<style  type=\"text/css\" >\n",
       "</style><table id=\"T_d652e9b8_7073_11ea_9dba_4c327597d7ef\" ><thead>    <tr>        <th class=\"index_name level0\" >updated_fit_type</th>        <th class=\"col_heading level0 col0\" >Best Fit</th>        <th class=\"col_heading level0 col1\" >Good Fit</th>        <th class=\"col_heading level0 col2\" >Local Affordable</th>        <th class=\"col_heading level0 col3\" >None</th>    </tr>    <tr>        <th class=\"index_name level0\" >high_school_class</th>        <th class=\"blank\" ></th>        <th class=\"blank\" ></th>        <th class=\"blank\" ></th>        <th class=\"blank\" ></th>    </tr></thead><tbody>\n",
       "                <tr>\n",
       "                        <th id=\"T_d652e9b8_7073_11ea_9dba_4c327597d7eflevel0_row0\" class=\"row_heading level0 row0\" >2011</th>\n",
       "                        <td id=\"T_d652e9b8_7073_11ea_9dba_4c327597d7efrow0_col0\" class=\"data row0 col0\" >67%</td>\n",
       "                        <td id=\"T_d652e9b8_7073_11ea_9dba_4c327597d7efrow0_col1\" class=\"data row0 col1\" >22%</td>\n",
       "                        <td id=\"T_d652e9b8_7073_11ea_9dba_4c327597d7efrow0_col2\" class=\"data row0 col2\" >11%</td>\n",
       "                        <td id=\"T_d652e9b8_7073_11ea_9dba_4c327597d7efrow0_col3\" class=\"data row0 col3\" >0%</td>\n",
       "            </tr>\n",
       "            <tr>\n",
       "                        <th id=\"T_d652e9b8_7073_11ea_9dba_4c327597d7eflevel0_row1\" class=\"row_heading level0 row1\" >2012</th>\n",
       "                        <td id=\"T_d652e9b8_7073_11ea_9dba_4c327597d7efrow1_col0\" class=\"data row1 col0\" >50%</td>\n",
       "                        <td id=\"T_d652e9b8_7073_11ea_9dba_4c327597d7efrow1_col1\" class=\"data row1 col1\" >11%</td>\n",
       "                        <td id=\"T_d652e9b8_7073_11ea_9dba_4c327597d7efrow1_col2\" class=\"data row1 col2\" >39%</td>\n",
       "                        <td id=\"T_d652e9b8_7073_11ea_9dba_4c327597d7efrow1_col3\" class=\"data row1 col3\" >0%</td>\n",
       "            </tr>\n",
       "            <tr>\n",
       "                        <th id=\"T_d652e9b8_7073_11ea_9dba_4c327597d7eflevel0_row2\" class=\"row_heading level0 row2\" >2013</th>\n",
       "                        <td id=\"T_d652e9b8_7073_11ea_9dba_4c327597d7efrow2_col0\" class=\"data row2 col0\" >38%</td>\n",
       "                        <td id=\"T_d652e9b8_7073_11ea_9dba_4c327597d7efrow2_col1\" class=\"data row2 col1\" >43%</td>\n",
       "                        <td id=\"T_d652e9b8_7073_11ea_9dba_4c327597d7efrow2_col2\" class=\"data row2 col2\" >10%</td>\n",
       "                        <td id=\"T_d652e9b8_7073_11ea_9dba_4c327597d7efrow2_col3\" class=\"data row2 col3\" >10%</td>\n",
       "            </tr>\n",
       "            <tr>\n",
       "                        <th id=\"T_d652e9b8_7073_11ea_9dba_4c327597d7eflevel0_row3\" class=\"row_heading level0 row3\" >2014</th>\n",
       "                        <td id=\"T_d652e9b8_7073_11ea_9dba_4c327597d7efrow3_col0\" class=\"data row3 col0\" >46%</td>\n",
       "                        <td id=\"T_d652e9b8_7073_11ea_9dba_4c327597d7efrow3_col1\" class=\"data row3 col1\" >24%</td>\n",
       "                        <td id=\"T_d652e9b8_7073_11ea_9dba_4c327597d7efrow3_col2\" class=\"data row3 col2\" >18%</td>\n",
       "                        <td id=\"T_d652e9b8_7073_11ea_9dba_4c327597d7efrow3_col3\" class=\"data row3 col3\" >12%</td>\n",
       "            </tr>\n",
       "            <tr>\n",
       "                        <th id=\"T_d652e9b8_7073_11ea_9dba_4c327597d7eflevel0_row4\" class=\"row_heading level0 row4\" >2015</th>\n",
       "                        <td id=\"T_d652e9b8_7073_11ea_9dba_4c327597d7efrow4_col0\" class=\"data row4 col0\" >41%</td>\n",
       "                        <td id=\"T_d652e9b8_7073_11ea_9dba_4c327597d7efrow4_col1\" class=\"data row4 col1\" >19%</td>\n",
       "                        <td id=\"T_d652e9b8_7073_11ea_9dba_4c327597d7efrow4_col2\" class=\"data row4 col2\" >25%</td>\n",
       "                        <td id=\"T_d652e9b8_7073_11ea_9dba_4c327597d7efrow4_col3\" class=\"data row4 col3\" >15%</td>\n",
       "            </tr>\n",
       "            <tr>\n",
       "                        <th id=\"T_d652e9b8_7073_11ea_9dba_4c327597d7eflevel0_row5\" class=\"row_heading level0 row5\" >2016</th>\n",
       "                        <td id=\"T_d652e9b8_7073_11ea_9dba_4c327597d7efrow5_col0\" class=\"data row5 col0\" >47%</td>\n",
       "                        <td id=\"T_d652e9b8_7073_11ea_9dba_4c327597d7efrow5_col1\" class=\"data row5 col1\" >21%</td>\n",
       "                        <td id=\"T_d652e9b8_7073_11ea_9dba_4c327597d7efrow5_col2\" class=\"data row5 col2\" >17%</td>\n",
       "                        <td id=\"T_d652e9b8_7073_11ea_9dba_4c327597d7efrow5_col3\" class=\"data row5 col3\" >15%</td>\n",
       "            </tr>\n",
       "            <tr>\n",
       "                        <th id=\"T_d652e9b8_7073_11ea_9dba_4c327597d7eflevel0_row6\" class=\"row_heading level0 row6\" >2017</th>\n",
       "                        <td id=\"T_d652e9b8_7073_11ea_9dba_4c327597d7efrow6_col0\" class=\"data row6 col0\" >55%</td>\n",
       "                        <td id=\"T_d652e9b8_7073_11ea_9dba_4c327597d7efrow6_col1\" class=\"data row6 col1\" >7%</td>\n",
       "                        <td id=\"T_d652e9b8_7073_11ea_9dba_4c327597d7efrow6_col2\" class=\"data row6 col2\" >15%</td>\n",
       "                        <td id=\"T_d652e9b8_7073_11ea_9dba_4c327597d7efrow6_col3\" class=\"data row6 col3\" >22%</td>\n",
       "            </tr>\n",
       "            <tr>\n",
       "                        <th id=\"T_d652e9b8_7073_11ea_9dba_4c327597d7eflevel0_row7\" class=\"row_heading level0 row7\" >2018</th>\n",
       "                        <td id=\"T_d652e9b8_7073_11ea_9dba_4c327597d7efrow7_col0\" class=\"data row7 col0\" >48%</td>\n",
       "                        <td id=\"T_d652e9b8_7073_11ea_9dba_4c327597d7efrow7_col1\" class=\"data row7 col1\" >2%</td>\n",
       "                        <td id=\"T_d652e9b8_7073_11ea_9dba_4c327597d7efrow7_col2\" class=\"data row7 col2\" >21%</td>\n",
       "                        <td id=\"T_d652e9b8_7073_11ea_9dba_4c327597d7efrow7_col3\" class=\"data row7 col3\" >29%</td>\n",
       "            </tr>\n",
       "    </tbody></table>"
      ],
      "text/plain": [
       "<pandas.io.formats.style.Styler at 0x1a1d286410>"
      ]
     },
     "execution_count": 48,
     "metadata": {},
     "output_type": "execute_result"
    }
   ],
   "source": [
    "pd.crosstab(df_grades_above_3_gpa.high_school_class, df_grades_above_3_gpa.updated_fit_type, normalize='index').round(2).style.format('{:.0%}')"
   ]
  },
  {
   "cell_type": "markdown",
   "metadata": {},
   "source": [
    "## Correlation Coefficients"
   ]
  },
  {
   "cell_type": "code",
   "execution_count": 60,
   "metadata": {},
   "outputs": [
    {
     "data": {
      "image/png": "[encoded data removed]",
      "text/plain": [
       "<Figure size 576x432 with 2 Axes>"
      ]
     },
     "metadata": {
      "needs_background": "light"
     },
     "output_type": "display_data"
    }
   ],
   "source": [
    "associations(df_5_year_grades[\n",
    "    ['graduated_4_year_degree_less_5_years', 'indicator_first_generation',\n",
    "     'indicator_low_income', '11th_grade_gpa_bucket', 'ethnic_background',\n",
    "     'year_1_gpa_bucket', 'college_elig_gpa_11th_cgpa',\n",
    "     'school', 'updated_fit_type', 'indicator_persisted_into_year_2_ct']\n",
    "], theil_u=True, cmap=\"RdBu\", figsize=(8, 6))"
   ]
  },
  {
   "cell_type": "markdown",
   "metadata": {},
   "source": [
    "## Regressions"
   ]
  },
  {
   "cell_type": "code",
   "execution_count": 61,
   "metadata": {},
   "outputs": [],
   "source": [
    "def C1(cat):\n",
    "     return pd.get_dummies(cat, drop_first=True)"
   ]
  },
  {
   "cell_type": "markdown",
   "metadata": {},
   "source": [
    "#### Regression 1. 5 Year Graduation Rate - All Eligible Students\n",
    "\n",
    "Note: The significant p value for Best Fit and Local Affordable schools - best fit with the positive coefficient and local affordable with the negative coefficient. "
   ]
  },
  {
   "cell_type": "code",
   "execution_count": 67,
   "metadata": {},
   "outputs": [
    {
     "name": "stdout",
     "output_type": "stream",
     "text": [
      "Optimization terminated successfully.\n",
      "         Current function value: 0.401899\n",
      "         Iterations: 48\n",
      "         Function evaluations: 50\n",
      "         Gradient evaluations: 50\n"
     ]
    },
    {
     "data": {
      "text/html": [
       "<table class=\"simpletable\">\n",
       "<caption>Logit Regression Results</caption>\n",
       "<tr>\n",
       "  <th>Dep. Variable:</th>   <td>C1(graduated_4_year_degree_less_5_years)</td> <th>  No. Observations:  </th>  <td>   306</td>  \n",
       "</tr>\n",
       "<tr>\n",
       "  <th>Model:</th>                             <td>Logit</td>                  <th>  Df Residuals:      </th>  <td>   297</td>  \n",
       "</tr>\n",
       "<tr>\n",
       "  <th>Method:</th>                             <td>MLE</td>                   <th>  Df Model:          </th>  <td>     8</td>  \n",
       "</tr>\n",
       "<tr>\n",
       "  <th>Date:</th>                        <td>Fri, 27 Mar 2020</td>             <th>  Pseudo R-squ.:     </th>  <td>0.4201</td>  \n",
       "</tr>\n",
       "<tr>\n",
       "  <th>Time:</th>                            <td>14:50:50</td>                 <th>  Log-Likelihood:    </th> <td> -122.98</td> \n",
       "</tr>\n",
       "<tr>\n",
       "  <th>converged:</th>                         <td>True</td>                   <th>  LL-Null:           </th> <td> -212.08</td> \n",
       "</tr>\n",
       "<tr>\n",
       "  <th>Covariance Type:</th>                 <td>nonrobust</td>                <th>  LLR p-value:       </th> <td>2.468e-34</td>\n",
       "</tr>\n",
       "</table>\n",
       "<table class=\"simpletable\">\n",
       "<tr>\n",
       "                          <td></td>                            <th>coef</th>     <th>std err</th>      <th>z</th>      <th>P>|z|</th>  <th>[0.025</th>    <th>0.975]</th>  \n",
       "</tr>\n",
       "<tr>\n",
       "  <th>Intercept</th>                                        <td>   -8.3987</td> <td>    1.339</td> <td>   -6.271</td> <td> 0.000</td> <td>  -11.024</td> <td>   -5.774</td>\n",
       "</tr>\n",
       "<tr>\n",
       "  <th>C(indicator_first_generation, Treatment)[T.True]</th> <td>   -0.7130</td> <td>    0.423</td> <td>   -1.687</td> <td> 0.092</td> <td>   -1.541</td> <td>    0.115</td>\n",
       "</tr>\n",
       "<tr>\n",
       "  <th>C(updated_fit_type, Sum)[S.Best Fit]</th>             <td>    1.1054</td> <td>    0.283</td> <td>    3.905</td> <td> 0.000</td> <td>    0.551</td> <td>    1.660</td>\n",
       "</tr>\n",
       "<tr>\n",
       "  <th>C(updated_fit_type, Sum)[S.Good Fit]</th>             <td>   -0.0673</td> <td>    0.286</td> <td>   -0.236</td> <td> 0.814</td> <td>   -0.628</td> <td>    0.493</td>\n",
       "</tr>\n",
       "<tr>\n",
       "  <th>C(updated_fit_type, Sum)[S.Local Affordable]</th>     <td>   -0.8548</td> <td>    0.323</td> <td>   -2.646</td> <td> 0.008</td> <td>   -1.488</td> <td>   -0.222</td>\n",
       "</tr>\n",
       "<tr>\n",
       "  <th>C(indicator_low_income)[T.True]</th>                  <td>    0.4225</td> <td>    0.470</td> <td>    0.899</td> <td> 0.369</td> <td>   -0.499</td> <td>    1.344</td>\n",
       "</tr>\n",
       "<tr>\n",
       "  <th>C(indicator_persisted_into_year_2_ct)[T.True]</th>    <td>    1.2663</td> <td>    0.649</td> <td>    1.953</td> <td> 0.051</td> <td>   -0.005</td> <td>    2.537</td>\n",
       "</tr>\n",
       "<tr>\n",
       "  <th>year_1</th>                                           <td>    1.8093</td> <td>    0.313</td> <td>    5.777</td> <td> 0.000</td> <td>    1.195</td> <td>    2.423</td>\n",
       "</tr>\n",
       "<tr>\n",
       "  <th>Q('11th_grade')</th>                                  <td>    0.8616</td> <td>    0.308</td> <td>    2.797</td> <td> 0.005</td> <td>    0.258</td> <td>    1.465</td>\n",
       "</tr>\n",
       "</table>"
      ],
      "text/plain": [
       "<class 'statsmodels.iolib.summary.Summary'>\n",
       "\"\"\"\n",
       "                                      Logit Regression Results                                      \n",
       "====================================================================================================\n",
       "Dep. Variable:     C1(graduated_4_year_degree_less_5_years)   No. Observations:                  306\n",
       "Model:                                                Logit   Df Residuals:                      297\n",
       "Method:                                                 MLE   Df Model:                            8\n",
       "Date:                                      Fri, 27 Mar 2020   Pseudo R-squ.:                  0.4201\n",
       "Time:                                              14:50:50   Log-Likelihood:                -122.98\n",
       "converged:                                             True   LL-Null:                       -212.08\n",
       "Covariance Type:                                  nonrobust   LLR p-value:                 2.468e-34\n",
       "====================================================================================================================\n",
       "                                                       coef    std err          z      P>|z|      [0.025      0.975]\n",
       "--------------------------------------------------------------------------------------------------------------------\n",
       "Intercept                                           -8.3987      1.339     -6.271      0.000     -11.024      -5.774\n",
       "C(indicator_first_generation, Treatment)[T.True]    -0.7130      0.423     -1.687      0.092      -1.541       0.115\n",
       "C(updated_fit_type, Sum)[S.Best Fit]                 1.1054      0.283      3.905      0.000       0.551       1.660\n",
       "C(updated_fit_type, Sum)[S.Good Fit]                -0.0673      0.286     -0.236      0.814      -0.628       0.493\n",
       "C(updated_fit_type, Sum)[S.Local Affordable]        -0.8548      0.323     -2.646      0.008      -1.488      -0.222\n",
       "C(indicator_low_income)[T.True]                      0.4225      0.470      0.899      0.369      -0.499       1.344\n",
       "C(indicator_persisted_into_year_2_ct)[T.True]        1.2663      0.649      1.953      0.051      -0.005       2.537\n",
       "year_1                                               1.8093      0.313      5.777      0.000       1.195       2.423\n",
       "Q('11th_grade')                                      0.8616      0.308      2.797      0.005       0.258       1.465\n",
       "====================================================================================================================\n",
       "\"\"\""
      ]
     },
     "execution_count": 67,
     "metadata": {},
     "output_type": "execute_result"
    }
   ],
   "source": [
    "mod = smf.logit(formula= \"C1(graduated_4_year_degree_less_5_years) ~ year_1  + Q('11th_grade') + C(indicator_first_generation, Treatment) + C(updated_fit_type, Sum) + C(indicator_low_income) + C(indicator_persisted_into_year_2_ct)\", data=df_5_year_grades).fit(method='bfgs', maxiter=100)\n",
    "mod.summary()"
   ]
  },
  {
   "cell_type": "markdown",
   "metadata": {},
   "source": [
    "#### Regression 2. 5 Year Graduation Rate - Students above 3.0 GPA\n",
    "\n",
    "Note, none of the fit types are statistically significant"
   ]
  },
  {
   "cell_type": "code",
   "execution_count": 68,
   "metadata": {},
   "outputs": [
    {
     "name": "stdout",
     "output_type": "stream",
     "text": [
      "Optimization terminated successfully.\n",
      "         Current function value: 0.402441\n",
      "         Iterations: 62\n",
      "         Function evaluations: 64\n",
      "         Gradient evaluations: 64\n"
     ]
    },
    {
     "data": {
      "text/html": [
       "<table class=\"simpletable\">\n",
       "<caption>Logit Regression Results</caption>\n",
       "<tr>\n",
       "  <th>Dep. Variable:</th>   <td>C1(graduated_4_year_degree_less_5_years)</td> <th>  No. Observations:  </th>  <td>    98</td>  \n",
       "</tr>\n",
       "<tr>\n",
       "  <th>Model:</th>                             <td>Logit</td>                  <th>  Df Residuals:      </th>  <td>    89</td>  \n",
       "</tr>\n",
       "<tr>\n",
       "  <th>Method:</th>                             <td>MLE</td>                   <th>  Df Model:          </th>  <td>     8</td>  \n",
       "</tr>\n",
       "<tr>\n",
       "  <th>Date:</th>                        <td>Fri, 27 Mar 2020</td>             <th>  Pseudo R-squ.:     </th>  <td>0.2770</td>  \n",
       "</tr>\n",
       "<tr>\n",
       "  <th>Time:</th>                            <td>14:51:19</td>                 <th>  Log-Likelihood:    </th> <td> -39.439</td> \n",
       "</tr>\n",
       "<tr>\n",
       "  <th>converged:</th>                         <td>True</td>                   <th>  LL-Null:           </th> <td> -54.553</td> \n",
       "</tr>\n",
       "<tr>\n",
       "  <th>Covariance Type:</th>                 <td>nonrobust</td>                <th>  LLR p-value:       </th> <td>0.0001927</td>\n",
       "</tr>\n",
       "</table>\n",
       "<table class=\"simpletable\">\n",
       "<tr>\n",
       "                          <td></td>                            <th>coef</th>     <th>std err</th>      <th>z</th>      <th>P>|z|</th>  <th>[0.025</th>    <th>0.975]</th>  \n",
       "</tr>\n",
       "<tr>\n",
       "  <th>Intercept</th>                                        <td>  -10.4274</td> <td>    4.354</td> <td>   -2.395</td> <td> 0.017</td> <td>  -18.960</td> <td>   -1.895</td>\n",
       "</tr>\n",
       "<tr>\n",
       "  <th>C(indicator_first_generation, Treatment)[T.True]</th> <td>   -1.8068</td> <td>    0.930</td> <td>   -1.943</td> <td> 0.052</td> <td>   -3.629</td> <td>    0.015</td>\n",
       "</tr>\n",
       "<tr>\n",
       "  <th>C(updated_fit_type, Sum)[S.Best Fit]</th>             <td>    0.5965</td> <td>    0.510</td> <td>    1.169</td> <td> 0.242</td> <td>   -0.403</td> <td>    1.596</td>\n",
       "</tr>\n",
       "<tr>\n",
       "  <th>C(updated_fit_type, Sum)[S.Good Fit]</th>             <td>    0.5496</td> <td>    0.507</td> <td>    1.084</td> <td> 0.278</td> <td>   -0.444</td> <td>    1.543</td>\n",
       "</tr>\n",
       "<tr>\n",
       "  <th>C(updated_fit_type, Sum)[S.Local Affordable]</th>     <td>   -0.4484</td> <td>    0.540</td> <td>   -0.830</td> <td> 0.407</td> <td>   -1.508</td> <td>    0.611</td>\n",
       "</tr>\n",
       "<tr>\n",
       "  <th>C(indicator_low_income)[T.True]</th>                  <td>    0.0042</td> <td>    0.886</td> <td>    0.005</td> <td> 0.996</td> <td>   -1.733</td> <td>    1.741</td>\n",
       "</tr>\n",
       "<tr>\n",
       "  <th>C(indicator_persisted_into_year_2_ct)[T.True]</th>    <td>    0.7159</td> <td>    1.124</td> <td>    0.637</td> <td> 0.524</td> <td>   -1.487</td> <td>    2.919</td>\n",
       "</tr>\n",
       "<tr>\n",
       "  <th>year_1</th>                                           <td>    2.1566</td> <td>    1.387</td> <td>    1.555</td> <td> 0.120</td> <td>   -0.562</td> <td>    4.875</td>\n",
       "</tr>\n",
       "<tr>\n",
       "  <th>Q('11th_grade')</th>                                  <td>    1.5778</td> <td>    0.658</td> <td>    2.399</td> <td> 0.016</td> <td>    0.289</td> <td>    2.867</td>\n",
       "</tr>\n",
       "</table>"
      ],
      "text/plain": [
       "<class 'statsmodels.iolib.summary.Summary'>\n",
       "\"\"\"\n",
       "                                      Logit Regression Results                                      \n",
       "====================================================================================================\n",
       "Dep. Variable:     C1(graduated_4_year_degree_less_5_years)   No. Observations:                   98\n",
       "Model:                                                Logit   Df Residuals:                       89\n",
       "Method:                                                 MLE   Df Model:                            8\n",
       "Date:                                      Fri, 27 Mar 2020   Pseudo R-squ.:                  0.2770\n",
       "Time:                                              14:51:19   Log-Likelihood:                -39.439\n",
       "converged:                                             True   LL-Null:                       -54.553\n",
       "Covariance Type:                                  nonrobust   LLR p-value:                 0.0001927\n",
       "====================================================================================================================\n",
       "                                                       coef    std err          z      P>|z|      [0.025      0.975]\n",
       "--------------------------------------------------------------------------------------------------------------------\n",
       "Intercept                                          -10.4274      4.354     -2.395      0.017     -18.960      -1.895\n",
       "C(indicator_first_generation, Treatment)[T.True]    -1.8068      0.930     -1.943      0.052      -3.629       0.015\n",
       "C(updated_fit_type, Sum)[S.Best Fit]                 0.5965      0.510      1.169      0.242      -0.403       1.596\n",
       "C(updated_fit_type, Sum)[S.Good Fit]                 0.5496      0.507      1.084      0.278      -0.444       1.543\n",
       "C(updated_fit_type, Sum)[S.Local Affordable]        -0.4484      0.540     -0.830      0.407      -1.508       0.611\n",
       "C(indicator_low_income)[T.True]                      0.0042      0.886      0.005      0.996      -1.733       1.741\n",
       "C(indicator_persisted_into_year_2_ct)[T.True]        0.7159      1.124      0.637      0.524      -1.487       2.919\n",
       "year_1                                               2.1566      1.387      1.555      0.120      -0.562       4.875\n",
       "Q('11th_grade')                                      1.5778      0.658      2.399      0.016       0.289       2.867\n",
       "====================================================================================================================\n",
       "\"\"\""
      ]
     },
     "execution_count": 68,
     "metadata": {},
     "output_type": "execute_result"
    }
   ],
   "source": [
    "mod = smf.logit(formula= \"C1(graduated_4_year_degree_less_5_years) ~ year_1  + Q('11th_grade') + C(indicator_first_generation, Treatment) + C(updated_fit_type, Sum) + C(indicator_low_income) + C(indicator_persisted_into_year_2_ct)\", data=df_5_year_grades_above_3_gpa).fit(method='bfgs', maxiter=100)\n",
    "mod.summary()"
   ]
  },
  {
   "cell_type": "markdown",
   "metadata": {},
   "source": [
    "#### Regression 3. 5 Year Graduation Rate - Students below 2.75 GPA\n",
    "\n",
    "Note, once again only best and local affordable are statistically significant. \n"
   ]
  },
  {
   "cell_type": "code",
   "execution_count": 72,
   "metadata": {},
   "outputs": [
    {
     "name": "stdout",
     "output_type": "stream",
     "text": [
      "Optimization terminated successfully.\n",
      "         Current function value: 0.350699\n",
      "         Iterations: 59\n",
      "         Function evaluations: 61\n",
      "         Gradient evaluations: 61\n"
     ]
    },
    {
     "data": {
      "text/html": [
       "<table class=\"simpletable\">\n",
       "<caption>Logit Regression Results</caption>\n",
       "<tr>\n",
       "  <th>Dep. Variable:</th>   <td>C1(graduated_4_year_degree_less_5_years)</td> <th>  No. Observations:  </th>  <td>   172</td>  \n",
       "</tr>\n",
       "<tr>\n",
       "  <th>Model:</th>                             <td>Logit</td>                  <th>  Df Residuals:      </th>  <td>   163</td>  \n",
       "</tr>\n",
       "<tr>\n",
       "  <th>Method:</th>                             <td>MLE</td>                   <th>  Df Model:          </th>  <td>     8</td>  \n",
       "</tr>\n",
       "<tr>\n",
       "  <th>Date:</th>                        <td>Fri, 27 Mar 2020</td>             <th>  Pseudo R-squ.:     </th>  <td>0.4182</td>  \n",
       "</tr>\n",
       "<tr>\n",
       "  <th>Time:</th>                            <td>14:55:51</td>                 <th>  Log-Likelihood:    </th> <td> -60.320</td> \n",
       "</tr>\n",
       "<tr>\n",
       "  <th>converged:</th>                         <td>True</td>                   <th>  LL-Null:           </th> <td> -103.68</td> \n",
       "</tr>\n",
       "<tr>\n",
       "  <th>Covariance Type:</th>                 <td>nonrobust</td>                <th>  LLR p-value:       </th> <td>2.156e-15</td>\n",
       "</tr>\n",
       "</table>\n",
       "<table class=\"simpletable\">\n",
       "<tr>\n",
       "                          <td></td>                            <th>coef</th>     <th>std err</th>      <th>z</th>      <th>P>|z|</th>  <th>[0.025</th>    <th>0.975]</th>  \n",
       "</tr>\n",
       "<tr>\n",
       "  <th>Intercept</th>                                        <td>  -10.1592</td> <td>    2.311</td> <td>   -4.396</td> <td> 0.000</td> <td>  -14.689</td> <td>   -5.629</td>\n",
       "</tr>\n",
       "<tr>\n",
       "  <th>C(indicator_first_generation, Treatment)[T.True]</th> <td>   -0.1559</td> <td>    0.635</td> <td>   -0.245</td> <td> 0.806</td> <td>   -1.401</td> <td>    1.089</td>\n",
       "</tr>\n",
       "<tr>\n",
       "  <th>C(updated_fit_type, Sum)[S.Best Fit]</th>             <td>    1.4626</td> <td>    0.411</td> <td>    3.562</td> <td> 0.000</td> <td>    0.658</td> <td>    2.267</td>\n",
       "</tr>\n",
       "<tr>\n",
       "  <th>C(updated_fit_type, Sum)[S.Good Fit]</th>             <td>   -0.1613</td> <td>    0.449</td> <td>   -0.359</td> <td> 0.719</td> <td>   -1.041</td> <td>    0.719</td>\n",
       "</tr>\n",
       "<tr>\n",
       "  <th>C(updated_fit_type, Sum)[S.Local Affordable]</th>     <td>   -1.0241</td> <td>    0.510</td> <td>   -2.009</td> <td> 0.045</td> <td>   -2.023</td> <td>   -0.025</td>\n",
       "</tr>\n",
       "<tr>\n",
       "  <th>C(indicator_low_income)[T.True]</th>                  <td>    0.3654</td> <td>    0.691</td> <td>    0.529</td> <td> 0.597</td> <td>   -0.988</td> <td>    1.719</td>\n",
       "</tr>\n",
       "<tr>\n",
       "  <th>C(indicator_persisted_into_year_2_ct)[T.True]</th>    <td>    1.2089</td> <td>    0.851</td> <td>    1.421</td> <td> 0.155</td> <td>   -0.459</td> <td>    2.877</td>\n",
       "</tr>\n",
       "<tr>\n",
       "  <th>year_1</th>                                           <td>    2.6218</td> <td>    0.680</td> <td>    3.855</td> <td> 0.000</td> <td>    1.289</td> <td>    3.955</td>\n",
       "</tr>\n",
       "<tr>\n",
       "  <th>Q('11th_grade')</th>                                  <td>    0.7234</td> <td>    0.425</td> <td>    1.704</td> <td> 0.088</td> <td>   -0.109</td> <td>    1.556</td>\n",
       "</tr>\n",
       "</table>"
      ],
      "text/plain": [
       "<class 'statsmodels.iolib.summary.Summary'>\n",
       "\"\"\"\n",
       "                                      Logit Regression Results                                      \n",
       "====================================================================================================\n",
       "Dep. Variable:     C1(graduated_4_year_degree_less_5_years)   No. Observations:                  172\n",
       "Model:                                                Logit   Df Residuals:                      163\n",
       "Method:                                                 MLE   Df Model:                            8\n",
       "Date:                                      Fri, 27 Mar 2020   Pseudo R-squ.:                  0.4182\n",
       "Time:                                              14:55:51   Log-Likelihood:                -60.320\n",
       "converged:                                             True   LL-Null:                       -103.68\n",
       "Covariance Type:                                  nonrobust   LLR p-value:                 2.156e-15\n",
       "====================================================================================================================\n",
       "                                                       coef    std err          z      P>|z|      [0.025      0.975]\n",
       "--------------------------------------------------------------------------------------------------------------------\n",
       "Intercept                                          -10.1592      2.311     -4.396      0.000     -14.689      -5.629\n",
       "C(indicator_first_generation, Treatment)[T.True]    -0.1559      0.635     -0.245      0.806      -1.401       1.089\n",
       "C(updated_fit_type, Sum)[S.Best Fit]                 1.4626      0.411      3.562      0.000       0.658       2.267\n",
       "C(updated_fit_type, Sum)[S.Good Fit]                -0.1613      0.449     -0.359      0.719      -1.041       0.719\n",
       "C(updated_fit_type, Sum)[S.Local Affordable]        -1.0241      0.510     -2.009      0.045      -2.023      -0.025\n",
       "C(indicator_low_income)[T.True]                      0.3654      0.691      0.529      0.597      -0.988       1.719\n",
       "C(indicator_persisted_into_year_2_ct)[T.True]        1.2089      0.851      1.421      0.155      -0.459       2.877\n",
       "year_1                                               2.6218      0.680      3.855      0.000       1.289       3.955\n",
       "Q('11th_grade')                                      0.7234      0.425      1.704      0.088      -0.109       1.556\n",
       "====================================================================================================================\n",
       "\"\"\""
      ]
     },
     "execution_count": 72,
     "metadata": {},
     "output_type": "execute_result"
    }
   ],
   "source": [
    "mod = smf.logit(formula= \"C1(graduated_4_year_degree_less_5_years) ~ year_1  + Q('11th_grade') + C(indicator_first_generation, Treatment) + C(updated_fit_type, Sum) + C(indicator_low_income) + C(indicator_persisted_into_year_2_ct)\", data=df_5_year_grades_below_275_gpa).fit(method='bfgs', maxiter=100)\n",
    "mod.summary()"
   ]
  },
  {
   "cell_type": "markdown",
   "metadata": {},
   "source": [
    "##### Odds Ratio for Previous Regression\n",
    "\n"
   ]
  },
  {
   "cell_type": "code",
   "execution_count": 73,
   "metadata": {},
   "outputs": [
    {
     "data": {
      "text/plain": [
       "Intercept                                            0.000039\n",
       "C(indicator_first_generation, Treatment)[T.True]     0.855637\n",
       "C(updated_fit_type, Sum)[S.Best Fit]                 4.317135\n",
       "C(updated_fit_type, Sum)[S.Good Fit]                 0.851010\n",
       "C(updated_fit_type, Sum)[S.Local Affordable]         0.359106\n",
       "C(indicator_low_income)[T.True]                      1.441070\n",
       "C(indicator_persisted_into_year_2_ct)[T.True]        3.349807\n",
       "year_1                                              13.760624\n",
       "Q('11th_grade')                                      2.061512\n",
       "dtype: float64"
      ]
     },
     "execution_count": 73,
     "metadata": {},
     "output_type": "execute_result"
    }
   ],
   "source": [
    "np.exp(mod.params)"
   ]
  },
  {
   "cell_type": "code",
   "execution_count": 66,
   "metadata": {},
   "outputs": [
    {
     "data": {
      "text/html": [
       "\n",
       "<script>\n",
       "$(document).ready(function(){\n",
       "    window.code_toggle = function() {\n",
       "        (window.code_shown) ? $('div.input').hide(250) : $('div.input').show(250);\n",
       "        window.code_shown = !window.code_shown\n",
       "    }\n",
       "    if($('body.nbviewer').length) {\n",
       "        $('<li><a href=\"javascript:window.code_toggle()\" title=\"Show/Hide Code\"><span class=\"fa fa-code fa-2x menu-icon\"></span><span class=\"menu-text\">Show/Hide Code</span></a></li>').appendTo('.navbar-right');\n",
       "        window.code_shown=false;\n",
       "        $('div.input').hide();\n",
       "    }\n",
       "});\n",
       "</script>\n",
       "\n",
       "\n",
       "<style>\n",
       "\n",
       "// div.prompt {display:none}\n",
       "\n",
       "\n",
       "h1, .h1 {\n",
       "    font-size: 33px;\n",
       "    font-family: \"Trebuchet MS\";\n",
       "    font-size: 2.5em !important;\n",
       "    color: #2a7bbd;\n",
       "}\n",
       "\n",
       "h2, .h2 {\n",
       "    font-size: 10px;\n",
       "    font-family: \"Trebuchet MS\";\n",
       "    color: #2a7bbd; \n",
       "    \n",
       "}\n",
       "\n",
       "\n",
       "h3, .h3 {\n",
       "    font-size: 10px;\n",
       "    font-family: \"Trebuchet MS\";\n",
       "    color: #5d6063; \n",
       "    \n",
       "}\n",
       "\n",
       ".rendered_html table {\n",
       "\n",
       "    font-size: 14px;\n",
       "}\n",
       "\n",
       ".output_png {\n",
       "  display: flex;\n",
       "  justify-content: center;\n",
       "}\n",
       "\n",
       ".cell {\n",
       "    padding: 0px;\n",
       "}\n",
       "\n",
       "\n",
       "</style>\n"
      ],
      "text/plain": [
       "<IPython.core.display.HTML object>"
      ]
     },
     "metadata": {},
     "output_type": "display_data"
    }
   ],
   "source": [
    "\n",
    "\n",
    "%%html\n",
    "\n",
    "<script>\n",
    "$(document).ready(function(){\n",
    "    window.code_toggle = function() {\n",
    "        (window.code_shown) ? $('div.input').hide(250) : $('div.input').show(250);\n",
    "        window.code_shown = !window.code_shown\n",
    "    }\n",
    "    if($('body.nbviewer').length) {\n",
    "        $('<li><a href=\"javascript:window.code_toggle()\" title=\"Show/Hide Code\"><span class=\"fa fa-code fa-2x menu-icon\"></span><span class=\"menu-text\">Show/Hide Code</span></a></li>').appendTo('.navbar-right');\n",
    "        window.code_shown=false;\n",
    "        $('div.input').hide();\n",
    "    }\n",
    "});\n",
    "</script>\n",
    "\n",
    "\n",
    "<style>\n",
    "\n",
    "// div.prompt {display:none}\n",
    "\n",
    "\n",
    "h1, .h1 {\n",
    "    font-size: 33px;\n",
    "    font-family: \"Trebuchet MS\";\n",
    "    font-size: 2.5em !important;\n",
    "    color: #2a7bbd;\n",
    "}\n",
    "\n",
    "h2, .h2 {\n",
    "    font-size: 10px;\n",
    "    font-family: \"Trebuchet MS\";\n",
    "    color: #2a7bbd; \n",
    "    \n",
    "}\n",
    "\n",
    "\n",
    "h3, .h3 {\n",
    "    font-size: 10px;\n",
    "    font-family: \"Trebuchet MS\";\n",
    "    color: #5d6063; \n",
    "    \n",
    "}\n",
    "\n",
    ".rendered_html table {\n",
    "\n",
    "    font-size: 14px;\n",
    "}\n",
    "\n",
    ".output_png {\n",
    "  display: flex;\n",
    "  justify-content: center;\n",
    "}\n",
    "\n",
    ".cell {\n",
    "    padding: 0px;\n",
    "}\n",
    "\n",
    "\n",
    "</style>"
   ]
  },
  {
   "cell_type": "code",
   "execution_count": null,
   "metadata": {},
   "outputs": [],
   "source": []
  }
 ],
 "metadata": {
  "hide_input": false,
  "kernelspec": {
   "display_name": "Python 3",
   "language": "python",
   "name": "python3"
  },
  "language_info": {
   "codemirror_mode": {
    "name": "ipython",
    "version": 3
   },
   "file_extension": ".py",
   "mimetype": "text/x-python",
   "name": "python",
   "nbconvert_exporter": "python",
   "pygments_lexer": "ipython3",
   "version": "3.7.4"
  },
  "toc": {
   "base_numbering": 1,
   "nav_menu": {},
   "number_sections": true,
   "sideBar": true,
   "skip_h1_title": false,
   "title_cell": "Table of Contents",
   "title_sidebar": "Contents",
   "toc_cell": false,
   "toc_position": {},
   "toc_section_display": true,
   "toc_window_display": false
  }
 },
 "nbformat": 4,
 "nbformat_minor": 2
}
